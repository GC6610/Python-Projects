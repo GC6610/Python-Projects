{
 "cells": [
  {
   "cell_type": "markdown",
   "metadata": {},
   "source": [
    "<h1>TIC TAC TOE GAME WITH TWO MODES (TOURNAMENT AND SINGLE GAME MODE)</h1>"
   ]
  },
  {
   "cell_type": "markdown",
   "metadata": {},
   "source": [
    "<h3>This Tic Tac Toe game with two modes</h3> \n",
    "<ul><li>Single game mode(Two players)</li>\n",
    "    <li>Tournament mode(You can choose multiple participants in the this mode)</li>\n",
    "<div>You can choose any of them and continue with the game\n",
    "<br>If you choose single game mode the game will automatically stop just after single game and display the Winner at last\n",
    "<br>If you choose Tournament mode the game will run untill you say to stop  and will  display the events after the Tournament is over and will show you the winner of the Tournament and displays the Leaderboard</div>"
   ]
  },
  {
   "cell_type": "code",
   "execution_count": 31,
   "metadata": {},
   "outputs": [],
   "source": [
    "from IPython.display import clear_output\n",
    "\n",
    "def display_board(board):\n",
    "    clear_output()\n",
    "    print('  |   |   ')\n",
    "    print(board[7],'|',board[8],'|',board[9])\n",
    "    print('  |   | ')\n",
    "    print('-----------')\n",
    "    print('  |   | ')\n",
    "    print(board[4],'|',board[5],'|',board[6])\n",
    "    print('  |   | ')\n",
    "    print('-----------')\n",
    "    print('  |   | ')\n",
    "    print(board[1],'|',board[2],'|',board[3])\n",
    "    print('  |   | ')\n"
   ]
  },
  {
   "cell_type": "code",
   "execution_count": 32,
   "metadata": {},
   "outputs": [
    {
     "name": "stdout",
     "output_type": "stream",
     "text": [
      "  |   |   \n",
      "X | O | X\n",
      "  |   | \n",
      "-----------\n",
      "  |   | \n",
      "O | X | O\n",
      "  |   | \n",
      "-----------\n",
      "  |   | \n",
      "X | O | X\n",
      "  |   | \n"
     ]
    }
   ],
   "source": [
    "test_board = ['#','X','O','X','O','X','O','X','O','X']\n",
    "display_board(test_board)"
   ]
  },
  {
   "cell_type": "code",
   "execution_count": 33,
   "metadata": {},
   "outputs": [],
   "source": [
    "def names():\n",
    "    p1=input(\"Enter name of First Player\")\n",
    "    p2=input(\"Enter name of second Player\")"
   ]
  },
  {
   "cell_type": "code",
   "execution_count": 34,
   "metadata": {},
   "outputs": [],
   "source": [
    "def player_input():\n",
    "    marker=' '\n",
    "    while not(marker=='X' or marker=='O'):\n",
    "        marker=input(\"choose between X or O:\").upper()\n",
    "        if marker=='X':\n",
    "            return ('X','O')\n",
    "        else :\n",
    "            return ('O','X')"
   ]
  },
  {
   "cell_type": "code",
   "execution_count": 41,
   "metadata": {},
   "outputs": [
    {
     "name": "stdout",
     "output_type": "stream",
     "text": [
      "choose between X or O:x\n"
     ]
    }
   ],
   "source": [
    "player1_marker,player2_marker=player_input()"
   ]
  },
  {
   "cell_type": "code",
   "execution_count": 43,
   "metadata": {},
   "outputs": [],
   "source": [
    "def place_marker(board, marker, position):\n",
    "    board[position]=marker\n",
    "    "
   ]
  },
  {
   "cell_type": "code",
   "execution_count": 44,
   "metadata": {},
   "outputs": [
    {
     "name": "stdout",
     "output_type": "stream",
     "text": [
      "  |   |   \n",
      "X | $ | X\n",
      "  |   | \n",
      "-----------\n",
      "  |   | \n",
      "O | X | O\n",
      "  |   | \n",
      "-----------\n",
      "  |   | \n",
      "X | O | X\n",
      "  |   | \n"
     ]
    }
   ],
   "source": [
    "place_marker(test_board,'$',8)\n",
    "display_board(test_board)"
   ]
  },
  {
   "cell_type": "code",
   "execution_count": 45,
   "metadata": {},
   "outputs": [],
   "source": [
    "def win_check(board,mark):\n",
    "    \n",
    "    return ((board[7] == mark and board[8] == mark and board[9] == mark) or # across the top\n",
    "    (board[4] == mark and board[5] == mark and board[6] == mark) or # across the middle\n",
    "    (board[1] == mark and board[2] == mark and board[3] == mark) or # across the bottom\n",
    "    (board[7] == mark and board[4] == mark and board[1] == mark) or # down the middle\n",
    "    (board[8] == mark and board[5] == mark and board[2] == mark) or # down the middle\n",
    "    (board[9] == mark and board[6] == mark and board[3] == mark) or # down the right side\n",
    "    (board[7] == mark and board[5] == mark and board[3] == mark) or # diagonal\n",
    "    (board[9] == mark and board[5] == mark and board[1] == mark)) # diagonal"
   ]
  },
  {
   "cell_type": "code",
   "execution_count": 46,
   "metadata": {},
   "outputs": [
    {
     "data": {
      "text/plain": [
       "True"
      ]
     },
     "execution_count": 46,
     "metadata": {},
     "output_type": "execute_result"
    }
   ],
   "source": [
    "win_check(test_board,'X')"
   ]
  },
  {
   "cell_type": "code",
   "execution_count": 47,
   "metadata": {},
   "outputs": [],
   "source": [
    "import random\n",
    "\n",
    "def choose_first():\n",
    "    flip=random.randint(0,1)\n",
    "    if flip==0:\n",
    "        return 'player2'\n",
    "    else :\n",
    "        return 'player1'"
   ]
  },
  {
   "cell_type": "code",
   "execution_count": 48,
   "metadata": {},
   "outputs": [],
   "source": [
    "def space_check(board, position):\n",
    "    return board[position]==' '"
   ]
  },
  {
   "cell_type": "code",
   "execution_count": 49,
   "metadata": {},
   "outputs": [],
   "source": [
    "def full_board_check(board):\n",
    "    for i in range(1,10):\n",
    "        if space_check(board, i):\n",
    "            return False\n",
    "    return True"
   ]
  },
  {
   "cell_type": "code",
   "execution_count": 50,
   "metadata": {},
   "outputs": [],
   "source": [
    "def player_choice(board):\n",
    "    position = 0\n",
    "    \n",
    "    while position not in [1,2,3,4,5,6,7,8,9] or not space_check(board, position):\n",
    "        position = int(input('Choose your next position: (1-9) '))\n",
    "        \n",
    "    return position"
   ]
  },
  {
   "cell_type": "code",
   "execution_count": 51,
   "metadata": {},
   "outputs": [],
   "source": [
    "def replay():    \n",
    "    choice=input(\"Do want to play again 'Yes' or 'No'\")\n",
    "    return choice=='Yes'"
   ]
  },
  {
   "cell_type": "code",
   "execution_count": 52,
   "metadata": {},
   "outputs": [],
   "source": [
    "def maximum(d):\n",
    "    val=0\n",
    "    p=0\n",
    "    for i in d:\n",
    "        if d[i]>val:\n",
    "            val=d[i]\n",
    "    for i in d:\n",
    "        if val==d[i]:\n",
    "            p=i\n",
    "    return p"
   ]
  },
  {
   "cell_type": "code",
   "execution_count": 53,
   "metadata": {},
   "outputs": [],
   "source": [
    "def events(li):\n",
    "    \n",
    "    print(li)"
   ]
  },
  {
   "cell_type": "code",
   "execution_count": 29,
   "metadata": {},
   "outputs": [
    {
     "name": "stdout",
     "output_type": "stream",
     "text": [
      "  |   |   \n",
      "O | O | O\n",
      "  |   | \n",
      "-----------\n",
      "  |   | \n",
      "X |   |  \n",
      "  |   | \n",
      "-----------\n",
      "  |   | \n",
      "X |   |  \n",
      "  |   | \n",
      "Congrats Sur You won\n",
      "{'Arj': 1, 'Sur': 2}\n",
      "Do want to play again 'Yes' or 'No'No\n",
      "The tournamnet is over\n",
      "Sur Wins the tournament Yey!!\n",
      "['Arj Wins against Gop', 'Sur Wins against Gop', 'Sur Wins against Arj']\n"
     ]
    }
   ],
   "source": [
    "print('Welcome to Tic Tac Toe!')\n",
    "d=dict()\n",
    "mode=input(\"Enter the mode of Play Tournamnet or single game\")\n",
    "list1=[]\n",
    "while True:\n",
    "    # Reset the board\n",
    "    theBoard = [' '] * 10\n",
    "    p1=input(\"Name of player1: \")\n",
    "\n",
    "    p2=input(\"Name of player2: \")\n",
    "\n",
    "    \n",
    "    player1_marker, player2_marker = player_input()\n",
    "    turn = choose_first()\n",
    "    if turn =='player2':\n",
    "        print(p2,'Will go first')\n",
    "    else :\n",
    "        print(p1,'Will go first')\n",
    "    \n",
    "    \n",
    "    \n",
    "    play_game = input('Are you ready to play? Enter Yes or No.')\n",
    "    \n",
    "    if play_game.lower()[0] == 'y':\n",
    "        game_on = True\n",
    "    else:\n",
    "        game_on = False\n",
    "\n",
    "    while game_on:\n",
    "        if turn == 'Player 1':\n",
    "            # Player1's turn.\n",
    "            \n",
    "            display_board(theBoard)\n",
    "            position = player_choice(theBoard)\n",
    "            place_marker(theBoard, player1_marker, position)\n",
    "\n",
    "            if win_check(theBoard, player1_marker):\n",
    "                display_board(theBoard)\n",
    "                print(\"Congrats\",p1,\"You won\")\n",
    "                ev=p1+\" Wins against \"+p2\n",
    "                list1.append(ev)\n",
    "                if p1 in d:\n",
    "                    d[p1]=d[p1]+1\n",
    "                    \n",
    "                else :\n",
    "                    d[p1]=1\n",
    "                game_on = False\n",
    "            else:\n",
    "                if full_board_check(theBoard):\n",
    "                    display_board(theBoard)\n",
    "                    print('The game is a draw!')\n",
    "                    ev=\"Draw between \"+p1+\" And \"+p2\n",
    "                    list1.append(ev)\n",
    "                    \n",
    "                    break\n",
    "                else:\n",
    "                    turn = 'Player 2'\n",
    "\n",
    "        else:\n",
    "            # Player2's turn.\n",
    "            \n",
    "            display_board(theBoard)\n",
    "            position = player_choice(theBoard)\n",
    "            place_marker(theBoard, player2_marker, position)\n",
    "\n",
    "            if win_check(theBoard, player2_marker):\n",
    "                display_board(theBoard)\n",
    "                print(\"Congrats\",p2,\"You won\")\n",
    "                ev=p2+\" Wins against \"+p1\n",
    "                list1.append(ev)\n",
    "                if p2 in d:\n",
    "                    d[p2]=d[p2]+1\n",
    "                else :\n",
    "                    d[p2]=1\n",
    "                game_on = False\n",
    "            else:\n",
    "                if full_board_check(theBoard):\n",
    "                    display_board(theBoard)\n",
    "                    print('The game is a draw!')\n",
    "                    ev=\"Draw between \"+p1+\" And \"+p2\n",
    "                    list1.append(ev)\n",
    "                    break\n",
    "                else:\n",
    "                    turn = 'Player 1'\n",
    "            print(d)\n",
    "\n",
    "    if (mode=='single'):\n",
    "        print(maximum(d),\"Wins Yey!!\")\n",
    "        break\n",
    "    elif not replay():\n",
    "        print(\"The tournamnet is over\")\n",
    "        print(maximum(d),\"Wins the tournament Yey!!\")\n",
    "        events(list1)\n",
    "        break\n",
    " "
   ]
  }
 ],
 "metadata": {
  "kernelspec": {
   "display_name": "Python 3",
   "language": "python",
   "name": "python3"
  },
  "language_info": {
   "codemirror_mode": {
    "name": "ipython",
    "version": 3
   },
   "file_extension": ".py",
   "mimetype": "text/x-python",
   "name": "python",
   "nbconvert_exporter": "python",
   "pygments_lexer": "ipython3",
   "version": "3.7.7"
  }
 },
 "nbformat": 4,
 "nbformat_minor": 1
}
